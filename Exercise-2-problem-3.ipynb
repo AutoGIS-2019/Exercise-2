{
 "cells": [
  {
   "cell_type": "markdown",
   "metadata": {},
   "source": [
    "## Problem 3: How long distance individuals have travelled? (8 points)\n",
    "\n",
    "In this problem the aim is to calculate the distance in meters that the individuals have travelled according the social media posts (Euclidean distances between points). In this problem, we will need the `userid` -column an the points created in the previous problem. You will need the shapefile `Kruger_posts.shp` generated in Problem 2 as input file.\n",
    "\n",
    "**In your code, you should first:**\n",
    " - Import required modules.\n",
    " - Read in the shapefile as a geodataframe, and check that the crs information is correct.\n",
    " - Reproject the data from WGS84 projection into `EPSG:32735` -projection which stands for UTM Zone 35S (UTM zone for South Africa) to transform the data into metric system.\n",
    " \n",
    "*Store the result in a variable called `data`*!"
   ]
  },
  {
   "cell_type": "code",
   "execution_count": null,
   "metadata": {
    "deletable": false,
    "nbgrader": {
     "cell_type": "code",
     "checksum": "711ca055fe265781f980d2a5a0bed2e5",
     "grade": false,
     "grade_id": "Group_data",
     "locked": false,
     "schema_version": 3,
     "solution": true
    }
   },
   "outputs": [],
   "source": [
    "# YOUR CODE HERE\n",
    "raise NotImplementedError()"
   ]
  },
  {
   "cell_type": "code",
   "execution_count": null,
   "metadata": {
    "deletable": false,
    "editable": false,
    "nbgrader": {
     "cell_type": "code",
     "checksum": "5b6684e6bd2225677601cd30c0fb8de2",
     "grade": true,
     "grade_id": "problem_3_gdp_test",
     "locked": true,
     "points": 0.5,
     "schema_version": 3,
     "solution": false
    }
   },
   "outputs": [],
   "source": [
    "# NON-EDITABLE CODE CELL FOR TESTING YOUR SOLUTION\n",
    "\n",
    "# Check the data\n",
    "print(data.head())"
   ]
  },
  {
   "cell_type": "code",
   "execution_count": null,
   "metadata": {
    "deletable": false,
    "editable": false,
    "nbgrader": {
     "cell_type": "code",
     "checksum": "0122b18f5db08633f38db96ec9667cea",
     "grade": true,
     "grade_id": "problem_3_CRS_test",
     "locked": true,
     "points": 1.5,
     "schema_version": 3,
     "solution": false,
     "task": false
    }
   },
   "outputs": [],
   "source": [
    "# NON-EDITABLE CODE CELL FOR TESTING YOUR SOLUTION\n",
    "\n",
    "# Check that the crs is correct after re-projecting (should be epsg:32735)\n",
    "print(data.crs)"
   ]
  },
  {
   "cell_type": "markdown",
   "metadata": {},
   "source": [
    " - Group the data by userid"
   ]
  },
  {
   "cell_type": "code",
   "execution_count": null,
   "metadata": {
    "deletable": false,
    "nbgrader": {
     "cell_type": "code",
     "checksum": "6192e1b2610e7991dc92ac6665886bb3",
     "grade": false,
     "grade_id": "group_data",
     "locked": false,
     "schema_version": 3,
     "solution": true,
     "task": false
    }
   },
   "outputs": [],
   "source": [
    "# YOUR CODE HERE\n",
    "raise NotImplementedError()"
   ]
  },
  {
   "cell_type": "code",
   "execution_count": null,
   "metadata": {
    "deletable": false,
    "editable": false,
    "nbgrader": {
     "cell_type": "code",
     "checksum": "147a07e2a92506aef97014cdc8372e9c",
     "grade": true,
     "grade_id": "problem_3_grouped_test",
     "locked": true,
     "points": 0.5,
     "schema_version": 3,
     "solution": false,
     "task": false
    }
   },
   "outputs": [],
   "source": [
    "# NON-EDITABLE CODE CELL FOR TESTING YOUR SOLUTION\n",
    "\n",
    "#Check the number of groups:\n",
    "assert len(grouped.groups) == data[\"userid\"].nunique(), \"Number of groups should match number of unique users!\""
   ]
  },
  {
   "cell_type": "markdown",
   "metadata": {},
   "source": [
    "**Then:**\n",
    "- Create an empty GeoDataFrame called `movements`\n",
    "- Create a for-loop where you iterate over the grouped object. For each user's data: \n",
    "    - [sort](http://pandas.pydata.org/pandas-docs/stable/generated/pandas.DataFrame.sort_values.html) the rows by timestamp \n",
    "    - create a LineString object based on the user's points\n",
    "    - add the geometry and the userid into the `movements` dataframe (one userid per row). You can achieve this either by using the `.at` indexer, or the `append` method. See hints for more help.\n",
    "- Set the CRS of the ``movements`` GeoDataFrame as ``EPSG:32735`` "
   ]
  },
  {
   "cell_type": "code",
   "execution_count": null,
   "metadata": {
    "deletable": false,
    "nbgrader": {
     "cell_type": "code",
     "checksum": "474c18c655461eeae34816f4a8c79b95",
     "grade": false,
     "grade_id": "create_lines",
     "locked": false,
     "schema_version": 3,
     "solution": true
    }
   },
   "outputs": [],
   "source": [
    "# YOUR CODE HERE\n",
    "raise NotImplementedError()"
   ]
  },
  {
   "cell_type": "code",
   "execution_count": null,
   "metadata": {
    "deletable": false,
    "editable": false,
    "nbgrader": {
     "cell_type": "code",
     "checksum": "37890cbd307a09d3913616e3f110fad1",
     "grade": true,
     "grade_id": "problem_3_movements_tests",
     "locked": true,
     "points": 3,
     "schema_version": 3,
     "solution": false,
     "task": false
    }
   },
   "outputs": [],
   "source": [
    "# NON-EDITABLE CODE CELL FOR TESTING YOUR SOLUTION\n",
    "\n",
    "#Check the result\n",
    "movements.head()"
   ]
  },
  {
   "cell_type": "markdown",
   "metadata": {},
   "source": [
    "**Finally:**\n",
    "- Check once the crs definition of your dataframe (should be epsg:32735, define the correct crs if this information is missing)\n",
    "- Calculate the lenghts of the lines into a new column called ``distance`` in ``movements`` GeoDataFrame."
   ]
  },
  {
   "cell_type": "code",
   "execution_count": null,
   "metadata": {
    "deletable": false,
    "nbgrader": {
     "cell_type": "code",
     "checksum": "62a930ec9c24c5520f9a28db361e8090",
     "grade": false,
     "grade_id": "calculate_distance",
     "locked": false,
     "schema_version": 3,
     "solution": true
    }
   },
   "outputs": [],
   "source": [
    "# YOUR CODE HERE\n",
    "raise NotImplementedError()"
   ]
  },
  {
   "cell_type": "code",
   "execution_count": null,
   "metadata": {
    "deletable": false,
    "editable": false,
    "nbgrader": {
     "cell_type": "code",
     "checksum": "674e07864617d65a0dbaee87428bf789",
     "grade": true,
     "grade_id": "problem_3_distances_test",
     "locked": true,
     "points": 2,
     "schema_version": 3,
     "solution": false,
     "task": false
    }
   },
   "outputs": [],
   "source": [
    "# NON-EDITABLE CODE CELL FOR TESTING YOUR SOLUTION\n",
    "\n",
    "#Check the output\n",
    "movements.head()"
   ]
  },
  {
   "cell_type": "markdown",
   "metadata": {
    "deletable": false,
    "editable": false,
    "nbgrader": {
     "cell_type": "markdown",
     "checksum": "318c1e1c021eda696ae482bbd26ef9da",
     "grade": false,
     "grade_id": "questions",
     "locked": true,
     "schema_version": 3,
     "solution": false
    }
   },
   "source": [
    "You should now be able to print answers to the following questions: \n",
    "\n",
    " - What was the shortest distance travelled in meters?\n",
    " - What was the mean distance travelled in meters?\n",
    " - What was the maximum distance travelled in meters?"
   ]
  },
  {
   "cell_type": "code",
   "execution_count": null,
   "metadata": {},
   "outputs": [],
   "source": []
  },
  {
   "cell_type": "markdown",
   "metadata": {},
   "source": [
    "- Finally, save the movements of into a Shapefile called ``some_movements.shp``"
   ]
  },
  {
   "cell_type": "code",
   "execution_count": null,
   "metadata": {
    "deletable": false,
    "nbgrader": {
     "cell_type": "code",
     "checksum": "157bee0141aa073963a58a4362ccc50d",
     "grade": false,
     "grade_id": "save_file",
     "locked": false,
     "schema_version": 3,
     "solution": true,
     "task": false
    }
   },
   "outputs": [],
   "source": [
    "# YOUR CODE HERE\n",
    "raise NotImplementedError()"
   ]
  },
  {
   "cell_type": "code",
   "execution_count": null,
   "metadata": {
    "deletable": false,
    "editable": false,
    "nbgrader": {
     "cell_type": "code",
     "checksum": "7f5d070009cb15b1d9c1c25cc15ee67b",
     "grade": true,
     "grade_id": "problem_3_result_tests",
     "locked": true,
     "points": 0.5,
     "schema_version": 3,
     "solution": false
    }
   },
   "outputs": [],
   "source": [
    "# NON-EDITABLE CODE CELL FOR TESTING YOUR SOLUTION\n",
    "\n",
    "import os\n",
    "\n",
    "#Check if output file exists\n",
    "assert os.path.isfile(fp), \"output shapefile does not exits\""
   ]
  },
  {
   "cell_type": "markdown",
   "metadata": {},
   "source": [
    "That's all for this week!"
   ]
  }
 ],
 "metadata": {
  "anaconda-cloud": {},
  "kernelspec": {
   "display_name": "Python 3",
   "language": "python",
   "name": "python3"
  },
  "language_info": {
   "codemirror_mode": {
    "name": "ipython",
    "version": 3
   },
   "file_extension": ".py",
   "mimetype": "text/x-python",
   "name": "python",
   "nbconvert_exporter": "python",
   "pygments_lexer": "ipython3",
   "version": "3.7.3"
  }
 },
 "nbformat": 4,
 "nbformat_minor": 2
}
